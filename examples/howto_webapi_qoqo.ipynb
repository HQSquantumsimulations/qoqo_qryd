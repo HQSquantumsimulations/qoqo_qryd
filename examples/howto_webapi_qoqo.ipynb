{
 "cells": [
  {
   "cell_type": "markdown",
   "id": "2b3e586a-6d2e-444b-92e8-35e0859decf2",
   "metadata": {},
   "source": [
    "# How to use QRydDemo's emulator with Qoqo?\n",
    "\n",
    "Accessing the QRydDemo's emulator with Qoqo is supported by the QRydHQS software packages [qoqo-qryd](https://github.com/HQSquantumsimulations/qoqo_qryd). The QRydHQS software is designed to enable the excution of quantum algorithms implemented in [qoqo](<https://github.com/HQSquantumsimulations/qoqo>) on Qryd hardware. Qoqo is a circuit based quantum computing toolkit. Like many other quantum computing toolkits it can be used to construct quantum circuits sequences of quantum operations that are to be executed on a quantum computer.\n",
    "\n",
    "`qoqo` can be installed via the Python package manager pip\n",
    "```bash\n",
    "> pip install qoqo\n",
    "```\n",
    "\n",
    "For the python package `qoqo-qryd` we recommend checking out the latest tagged version from github installing it via pip.  \n",
    "```bash\n",
    "> pip install qoqo-qryd\n",
    "```\n",
    "\n",
    "\n",
    "In the following, we demonstrate how users can compile arbitrary quantum algorithms to the gate set and connectivities supported by our backends, using the example of a quantum Fourier transform. We then show how compiled algorithms can be executed on our cloud emulator.\n",
    "\n",
    "<font color='red'>*You can adapt and execute this notebook to run your own calculations on our servers (Menu Bar > Run > Run All Cells), without having to install the qoqo-qryd. However, the notebook will be reset at 00:00 CET/CEST and all your changes will be lost. Thus, please make sure to download your notebook and save it locally.*</font>\n",
    "\n",
    "**Currently supported Rydberg gates:**\n",
    "* Phase shift of the qubit state |1>    (`PhaseShiftState1`)\n",
    "* Rotation around an arbitrary axis in the xy-plane (`RotateXY`)\n",
    "* Phase-shifted CZ-gate (a Rydberg variant of the CZ-gate \\[[1](https://doi.org/10.1103/PhysRevLett.123.170503), [2](https://arxiv.org/abs/2202.13849)\\]) (`PhaseShiftedControlledZ`)\n",
    "\n",
    "**Currently supported connectivities:**\n",
    "<table align=left><tr>\n",
    "<td> <img src=\"square.png\" alt=\"Square lattice with nearest-neighbor connectivity\" style=\"width: 300px;\"/> </td>\n",
    "<td> <img src=\"triangle.png\" alt=\"Triangle lattice with nearest-neighbor connectivity\" style=\"width: 300px;\"/> </td>\n",
    "</tr></table>"
   ]
  },
  {
   "cell_type": "markdown",
   "id": "2b61f017-1118-48de-8077-71ab7e95acc5",
   "metadata": {},
   "source": [
    "## 1. Basic usage"
   ]
  },
  {
   "cell_type": "markdown",
   "id": "7696a070-6ccf-4a83-8133-89d34f6a0f9f",
   "metadata": {},
   "source": [
    "### Initialize the QRydDemo access\n",
    "\n",
    "To initialize the access, a QRydDemo API token is required. The token can be obtained via the registration form at [thequantumlaend.de](https://thequantumlaend.de/frontend/signup_form.php).\n",
    "For convenience, your token has already been loaded into this notebook."
   ]
  },
  {
   "cell_type": "code",
   "execution_count": 57,
   "id": "7408ecb2-9375-4b7e-a78f-a625fdfce020",
   "metadata": {},
   "outputs": [],
   "source": [
    "import os\n",
    "token = os.getenv(\"QRYD_API_TOKEN\")"
   ]
  },
  {
   "cell_type": "markdown",
   "id": "fbb265e8-7a0a-4d02-a150-d2fe4e11bdcc",
   "metadata": {},
   "source": [
    "### Choose a backend\n",
    "\n",
    "Different devices are available for the API backend that are capable of running ideal simulations of quantum circuits. An inclusion of noise models is planned for the future. You can either choose a device emulating 30 qubits arranged in a 5x6 square lattice with nearest-neighbor connectivity `QrydEmuSquareDevice` or in a triangle lattice `QrydEmuTriangularDevice`. \n",
    "\n",
    "The QRyd compiler - a decomposer developed by [HQS Quantum Simulations](https://quantumsimulations.de/) - automatically transpiles arbitrary quantum circuits to comply with the native gate set and connectivity of the Rydberg platform when running the devices on the QRyd servers."
   ]
  },
  {
   "cell_type": "code",
   "execution_count": 58,
   "id": "9beb5a9c-6c3f-485d-97a6-489397d7dc95",
   "metadata": {},
   "outputs": [],
   "source": [
    "from qoqo_qryd import APIBackend\n",
    "from qoqo_qryd.api_devices import QrydEmuTriangularDevice\n",
    "import numpy as np\n",
    "\n",
    "device = QrydEmuTriangularDevice(seed=1, pcz_theta=np.pi)\n",
    "backend = APIBackend(device=device, access_token=token, timeout=30) # timeout in seconds, 30s per default"
   ]
  },
  {
   "cell_type": "markdown",
   "id": "4879f7e1-b3b3-4736-bd49-c5c29615f0df",
   "metadata": {},
   "source": [
    "### Create a quantum algorithm\n",
    "\n",
    "You can use the gate operations provided by Qoqo to create a quantum algorithm, e.g., in the following, we create a quantum circuit that calculates the Fourier transform of a rectangular function."
   ]
  },
  {
   "cell_type": "code",
   "execution_count": 59,
   "id": "c3a7d467-d2e5-4b87-b95e-cbcc57bad2f8",
   "metadata": {},
   "outputs": [
    {
     "name": "stdout",
     "output_type": "stream",
     "text": [
      "DefinitionBit(DefinitionBit { name: \"ro\", length: 4, is_output: true })\n",
      "Hadamard(Hadamard { qubit: 0 })\n",
      "Hadamard(Hadamard { qubit: 1 })\n",
      "Hadamard(Hadamard { qubit: 3 })\n",
      "ControlledPhaseShift(ControlledPhaseShift { control: 0, target: 3, theta: Float(0.39269908169872414) })\n",
      "ControlledPhaseShift(ControlledPhaseShift { control: 1, target: 3, theta: Float(0.7853981633974483) })\n",
      "ControlledPhaseShift(ControlledPhaseShift { control: 2, target: 3, theta: Float(1.5707963267948966) })\n",
      "Hadamard(Hadamard { qubit: 2 })\n",
      "ControlledPhaseShift(ControlledPhaseShift { control: 0, target: 2, theta: Float(0.7853981633974483) })\n",
      "ControlledPhaseShift(ControlledPhaseShift { control: 1, target: 2, theta: Float(1.5707963267948966) })\n",
      "Hadamard(Hadamard { qubit: 1 })\n",
      "ControlledPhaseShift(ControlledPhaseShift { control: 0, target: 1, theta: Float(1.5707963267948966) })\n",
      "Hadamard(Hadamard { qubit: 0 })\n",
      "SWAP(SWAP { control: 0, target: 3 })\n",
      "SWAP(SWAP { control: 1, target: 2 })\n",
      "PragmaRepeatedMeasurement(PragmaRepeatedMeasurement { readout: \"ro\", number_measurements: 262144, qubit_mapping: None })\n",
      "\n"
     ]
    }
   ],
   "source": [
    "from qoqo import Circuit\n",
    "from qoqo import operations as ops\n",
    "import numpy as np\n",
    "\n",
    "def qft_rotations(circuit, n):\n",
    "    \"\"\"Performs qft on the first n qubits in circuit (without swaps)\"\"\"\n",
    "    if n == 0:\n",
    "        return circuit\n",
    "    n -= 1\n",
    "    circuit += ops.Hadamard(qubit=n)\n",
    "    for qubit in range(n):\n",
    "        circuit += ops.ControlledPhaseShift(control=qubit, target=n, theta=np.pi/2**(n-qubit))\n",
    "    # At the end of our function, we call the same function again on\n",
    "    # the next qubits (we reduced n by one earlier in the function)\n",
    "    qft_rotations(circuit, n)\n",
    "\n",
    "def swap_registers(circuit, n):\n",
    "    \"\"\"Performs the swap part of the QFT algorithm\"\"\"\n",
    "    for qubit in range(n//2):\n",
    "        circuit += ops.SWAP(control=qubit, target=n-qubit-1)\n",
    "    return circuit\n",
    "\n",
    "def qft(circuit, n):\n",
    "    \"\"\"QFT on the first n qubits in circuit\"\"\"\n",
    "    qft_rotations(circuit, n)\n",
    "    swap_registers(circuit, n)\n",
    "    return circuit\n",
    "\n",
    "# Create a quantum circuit object\n",
    "num_qubits = 4\n",
    "qc = Circuit()\n",
    "# add a register to store the measurement to the Circuit\n",
    "qc += ops.DefinitionBit(name='ro', length=num_qubits, is_output=True)\n",
    "\n",
    "# Encode the state |0>+|1>+|2>+|3>=|0000>+|0001>+|0010>+|0011> (i.e. a state that corresponds\n",
    "# to a rectangular function in the context of the qft), apply the qft, and measure all qubits\n",
    "qc += ops.Hadamard(0)\n",
    "qc += ops.Hadamard(1)\n",
    "qft(qc,num_qubits)\n",
    "# add a measurement operation to the Circuit, here a PragmaRepeatedMeasurement operation valid on QRyd emulators\n",
    "qc += ops.PragmaRepeatedMeasurement(readout='ro', number_measurements=2**18)\n",
    "\n",
    "# Print the resulting quantum circuit\n",
    "print(qc)"
   ]
  },
  {
   "cell_type": "markdown",
   "id": "8bc91fb1-0080-473f-a9e6-ba56384144e8",
   "metadata": {},
   "source": [
    "### Run the circuit on the emulator\n",
    "\n",
    "You can execute a circuit that will be automatically compiled on our cloud emulator by running `backend.run_circuit(qc)`. Alternatively, you can create and run a QuantumProgram by `program.run(backend)`."
   ]
  },
  {
   "cell_type": "code",
   "execution_count": 60,
   "id": "5d0d25bf-1b8e-435e-81bf-f3e941e803f3",
   "metadata": {},
   "outputs": [
    {
     "name": "stdout",
     "output_type": "stream",
     "text": [
      "test\n"
     ]
    },
    {
     "name": "stderr",
     "output_type": "stream",
     "text": [
      "[roqoqo-qryd/src/api_backend.rs:597] &status = \"\"\n"
     ]
    },
    {
     "name": "stdout",
     "output_type": "stream",
     "text": [
      "Job status:  completed\n",
      "Execution time: 0.0207 s\n"
     ]
    }
   ],
   "source": [
    "from qoqo.measurements import ClassicalRegister\n",
    "from qoqo import QuantumProgram\n",
    "from time import sleep\n",
    "\n",
    "# Alternativ 1: Run the circuit (unused in this example)\n",
    "(result_bit_registers, result_float_registers, result_complex_registers) = backend.run_circuit(qc)\n",
    "\n",
    "# Alternativ 2: Run the program (followed up in this example)\n",
    "measurement = ClassicalRegister(circuits=[qc], constant_circuit=None)\n",
    "program = QuantumProgram(measurement=measurement, input_parameter_names=[]) # no free parameters allowed on the QRyd emulators\n",
    "job = backend.post_job(program)\n",
    "\n",
    "# wait\n",
    "sleep(10)\n",
    "\n",
    "# get job status and result\n",
    "job_status = backend.get_job_status(job)\n",
    "print(\"Job status: \", job_status['status'])\n",
    "if job_status[\"status\"] == \"completed\":\n",
    "    result = backend.get_job_result(job)\n",
    "    print(f\"Execution time: {result['time_taken']:.4f} s\")"
   ]
  },
  {
   "cell_type": "code",
   "execution_count": 61,
   "id": "a7d9cc8f",
   "metadata": {},
   "outputs": [
    {
     "data": {
      "text/plain": [
       "<BarContainer object of 13 artists>"
      ]
     },
     "execution_count": 61,
     "metadata": {},
     "output_type": "execute_result"
    },
    {
     "data": {
      "image/png": "[encoded data removed]",
      "text/plain": [
       "<Figure size 432x288 with 1 Axes>"
      ]
     },
     "metadata": {
      "needs_background": "light"
     },
     "output_type": "display_data"
    }
   ],
   "source": [
    "# Plot the results\n",
    "import matplotlib.pyplot as plt\n",
    "\n",
    "counts = result['data']['counts']\n",
    "plt.bar(counts.keys(), counts.values())"
   ]
  },
  {
   "cell_type": "markdown",
   "id": "9ae5526a-df18-43cd-8d1f-165e51a67bd4",
   "metadata": {},
   "source": [
    "Details on the job result object can be accessed by the key words, for example:"
   ]
  },
  {
   "cell_type": "code",
   "execution_count": 62,
   "id": "6b2d0d81-1e9f-421b-9bf8-ed057378b2b1",
   "metadata": {},
   "outputs": [
    {
     "name": "stdout",
     "output_type": "stream",
     "text": [
      "Number of executed single-qubit gates: 702\n",
      "Number of executed two-qubit gates: 102\n",
      "Number of gates after gate fusion: 1\n"
     ]
    }
   ],
   "source": [
    "print(f\"Number of executed single-qubit gates: {result['executed_single_qubit_gates']}\")\n",
    "print(f\"Number of executed two-qubit gates: {result['executed_two_qubit_gates']}\")\n",
    "print(f\"Number of gates after gate fusion: {result['fusion_generated_gates']}\")"
   ]
  }
 ],
 "metadata": {
  "interpreter": {
   "hash": "d9d6a04e45447da395177785005c0c25292e4e0d016889c78e44945209a31cab"
  },
  "kernelspec": {
   "display_name": "Python 3.8.12 ('base')",
   "language": "python",
   "name": "python3"
  },
  "language_info": {
   "codemirror_mode": {
    "name": "ipython",
    "version": 3
   },
   "file_extension": ".py",
   "mimetype": "text/x-python",
   "name": "python",
   "nbconvert_exporter": "python",
   "pygments_lexer": "ipython3",
   "version": "3.8.12"
  }
 },
 "nbformat": 4,
 "nbformat_minor": 5
}
