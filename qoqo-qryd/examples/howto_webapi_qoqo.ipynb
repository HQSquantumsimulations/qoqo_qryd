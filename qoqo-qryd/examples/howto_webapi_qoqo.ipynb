{
 "cells": [
  {
   "attachments": {},
   "cell_type": "markdown",
   "id": "2b3e586a-6d2e-444b-92e8-35e0859decf2",
   "metadata": {},
   "source": [
    "# How to use QRydDemo's emulator with Qoqo?\n",
    "\n",
    "Accessing [QRydDemo](https://thequantumlaend.de/qryddemo/)'s emulator with [Qoqo](https://github.com/HQSquantumsimulations/qoqo) is supported by the software package [qoqo-qryd](https://github.com/HQSquantumsimulations/qoqo_qryd) developed by [HQS Quantum Simulations](https://quantumsimulations.de/). The software is designed to enable the excution of quantum algorithms implemented in Qoqo on the hardware of the QRydDemo consortium. Qoqo is a circuit based quantum computing toolkit. Like many other quantum computing toolkits, it can be used to construct quantum circuits sequences of quantum operations that are to be executed on a quantum computer or on an emulator.\n",
    "\n",
    "The python package `qoqo-qryd`, that enables accessing QRydDemo's emulator with Qoqo, can be installed via the Python package manager pip\n",
    "\n",
    "```bash\n",
    "> pip install qoqo-qryd\n",
    "```\n",
    "\n",
    "In the following, we demonstrate how users can execute arbitrary quantum algorithms on QRydDemo's emulator, using the example of a quantum Fourier transform. On our servers, a decomposer developed by HQS Quantum Simulations compiles quantum algorithms to the gate set and connectivities supported by the emulator and future Rydberg quantum computer.\n",
    "\n",
    "<font color='red'>*You can adapt and execute this notebook to run your own calculations on our servers (Menu Bar > Run > Run All Cells), without having to install qoqo-qryd. However, the notebook will be reset at 00:00 CET/CEST and all your changes will be lost. Thus, please make sure to download your notebook and save it locally.*</font>\n",
    "\n",
    "**Currently supported Rydberg gates:**\n",
    "* Phase shift of the qubit state |1>\n",
    "* Rotation around an arbitrary axis in the x-, y-, z- and xy-plane\n",
    "* Square-root of X gate as well as its Inverse\n",
    "* Phase-shifted CZ-gate (a Rydberg variant of the CZ-gate \\[[1](https://doi.org/10.1103/PhysRevLett.123.170503), [2](https://arxiv.org/abs/2202.13849)\\])\n",
    "* Phase-shifted CP-gate\n",
    "\n",
    "**Currently supported connectivities:**\n",
    "<table align=left><tr>\n",
    "<td> <img src=\"square.png\" alt=\"Square lattice with nearest-neighbor connectivity\" style=\"width: 300px;\"/> </td>\n",
    "<td> <img src=\"triangle.png\" alt=\"Triangle lattice with nearest-neighbor connectivity\" style=\"width: 300px;\"/> </td>\n",
    "</tr></table>"
   ]
  },
  {
   "cell_type": "markdown",
   "id": "2b61f017-1118-48de-8077-71ab7e95acc5",
   "metadata": {},
   "source": [
    "## 1. Basic usage"
   ]
  },
  {
   "cell_type": "markdown",
   "id": "7696a070-6ccf-4a83-8133-89d34f6a0f9f",
   "metadata": {},
   "source": [
    "### Initialize the QRydDemo access\n",
    "\n",
    "To initialize the access, a QRydDemo API token is required. The token can be obtained via the registration form at [thequantumlaend.de](https://thequantumlaend.de/frontend/signup_form.php).\n",
    "For convenience, your token has already been loaded into this notebook."
   ]
  },
  {
   "cell_type": "code",
   "execution_count": 1,
   "id": "7408ecb2-9375-4b7e-a78f-a625fdfce020",
   "metadata": {},
   "outputs": [],
   "source": [
    "import os\n",
    "\n",
    "token = os.getenv(\"QRYD_API_TOKEN\")\n"
   ]
  },
  {
   "cell_type": "markdown",
   "id": "fbb265e8-7a0a-4d02-a150-d2fe4e11bdcc",
   "metadata": {},
   "source": [
    "### Choose a backend\n",
    "\n",
    "Different layouts are available for the API backend that are capable of running ideal simulations of quantum circuits. An inclusion of noise models is planned for the future via the `TweezerDevice` instance. You can either choose a layout emulating 30 qubits arranged in a 5x6 square lattice with nearest-neighbor connectivity (`square` layout) or in a triangle lattice (`triangle`). The transpilation of arbitrary quantum algorithms to these connectivities and the gate set of the Rydberg platform happens on our servers, using a decomposer developed by [HQS Quantum Simulations](https://quantumsimulations.de/)."
   ]
  },
  {
   "cell_type": "code",
   "execution_count": 2,
   "id": "9beb5a9c-6c3f-485d-97a6-489397d7dc95",
   "metadata": {},
   "outputs": [
    {
     "name": "stdout",
     "output_type": "stream",
     "text": [
      "Available layouts:  ['square', 'triangle']\n",
      "Switch to the triangular layout.\n"
     ]
    }
   ],
   "source": [
    "from qoqo_qryd import APIBackend\n",
    "from qoqo_qryd.tweezer_devices import TweezerDevice\n",
    "import numpy as np\n",
    "\n",
    "device = TweezerDevice().from_api()\n",
    "print(\"Available layouts: \", device.available_layouts())\n",
    "\n",
    "device.switch_layout(\"triangle\")\n",
    "print(\"Switch to the triangular layout.\")\n",
    "\n",
    "backend = APIBackend(\n",
    "    device=device, access_token=token, timeout=30\n",
    ")  # timeout in seconds, 30s per default"
   ]
  },
  {
   "cell_type": "markdown",
   "id": "4879f7e1-b3b3-4736-bd49-c5c29615f0df",
   "metadata": {},
   "source": [
    "### Create a quantum algorithm\n",
    "\n",
    "You can use the gate operations provided by Qoqo to create a quantum algorithm, e.g., in the following, we create a quantum circuit that calculates the Fourier transform of a rectangular function."
   ]
  },
  {
   "cell_type": "code",
   "execution_count": 3,
   "id": "c3a7d467-d2e5-4b87-b95e-cbcc57bad2f8",
   "metadata": {},
   "outputs": [
    {
     "name": "stdout",
     "output_type": "stream",
     "text": [
      "DefinitionBit(DefinitionBit { name: \"ro\", length: 4, is_output: true })\n",
      "Hadamard(Hadamard { qubit: 0 })\n",
      "Hadamard(Hadamard { qubit: 1 })\n",
      "Hadamard(Hadamard { qubit: 3 })\n",
      "ControlledPhaseShift(ControlledPhaseShift { control: 0, target: 3, theta: Float(0.39269908169872414) })\n",
      "ControlledPhaseShift(ControlledPhaseShift { control: 1, target: 3, theta: Float(0.7853981633974483) })\n",
      "ControlledPhaseShift(ControlledPhaseShift { control: 2, target: 3, theta: Float(1.5707963267948966) })\n",
      "Hadamard(Hadamard { qubit: 2 })\n",
      "ControlledPhaseShift(ControlledPhaseShift { control: 0, target: 2, theta: Float(0.7853981633974483) })\n",
      "ControlledPhaseShift(ControlledPhaseShift { control: 1, target: 2, theta: Float(1.5707963267948966) })\n",
      "Hadamard(Hadamard { qubit: 1 })\n",
      "ControlledPhaseShift(ControlledPhaseShift { control: 0, target: 1, theta: Float(1.5707963267948966) })\n",
      "Hadamard(Hadamard { qubit: 0 })\n",
      "SWAP(SWAP { control: 0, target: 3 })\n",
      "SWAP(SWAP { control: 1, target: 2 })\n",
      "MeasureQubit(MeasureQubit { qubit: 0, readout: \"ro\", readout_index: 0 })\n",
      "MeasureQubit(MeasureQubit { qubit: 1, readout: \"ro\", readout_index: 1 })\n",
      "MeasureQubit(MeasureQubit { qubit: 2, readout: \"ro\", readout_index: 2 })\n",
      "MeasureQubit(MeasureQubit { qubit: 3, readout: \"ro\", readout_index: 3 })\n",
      "PragmaSetNumberOfMeasurements(PragmaSetNumberOfMeasurements { number_measurements: 1000, readout: \"ro\" })\n",
      "\n"
     ]
    }
   ],
   "source": [
    "from qoqo import Circuit\n",
    "from qoqo import operations as ops\n",
    "import numpy as np\n",
    "\n",
    "\n",
    "def qft_rotations(circuit, n):\n",
    "    \"\"\"Performs qft on the first n qubits in circuit (without swaps)\"\"\"\n",
    "    if n == 0:\n",
    "        return circuit\n",
    "    n -= 1\n",
    "    circuit += ops.Hadamard(qubit=n)\n",
    "    for qubit in range(n):\n",
    "        circuit += ops.ControlledPhaseShift(\n",
    "            control=qubit, target=n, theta=np.pi / 2 ** (n - qubit)\n",
    "        )\n",
    "\n",
    "    # At the end of our function, we call the same function again on\n",
    "    # the next qubits (we reduced n by one earlier in the function)\n",
    "    qft_rotations(circuit, n)\n",
    "\n",
    "\n",
    "def swap_registers(circuit, n):\n",
    "    \"\"\"Performs the swap part of the QFT algorithm\"\"\"\n",
    "    for qubit in range(n // 2):\n",
    "        circuit += ops.SWAP(control=qubit, target=n - qubit - 1)\n",
    "    return circuit\n",
    "\n",
    "\n",
    "def qft(circuit, n):\n",
    "    \"\"\"QFT on the first n qubits in circuit\"\"\"\n",
    "    qft_rotations(circuit, n)\n",
    "    swap_registers(circuit, n)\n",
    "    return circuit\n",
    "\n",
    "\n",
    "# Create a quantum circuit object\n",
    "num_qubits = 4\n",
    "qc = Circuit()\n",
    "\n",
    "# Add a register to store the measurement to the Circuit\n",
    "qc += ops.DefinitionBit(name=\"ro\", length=num_qubits, is_output=True)\n",
    "\n",
    "# Encode the state |0>+|1>+|2>+|3>=|0000>+|0001>+|0010>+|0011> (i.e. a state that corresponds\n",
    "# to a rectangular function in the context of the qft), apply the qft, and measure all qubits\n",
    "qc += ops.Hadamard(0)\n",
    "qc += ops.Hadamard(1)\n",
    "qft(qc, num_qubits)\n",
    "\n",
    "# Add a measurement operation to the Circuit, here a PragmaRepeatedMeasurement operation valid on QRydDemos's emulator\n",
    "for i in range(num_qubits):\n",
    "    qc += ops.MeasureQubit(i, \"ro\", i)\n",
    "qc += ops.PragmaSetNumberOfMeasurements(1000, readout=\"ro\")\n",
    "\n",
    "# Print the resulting quantum circuit\n",
    "print(qc)"
   ]
  },
  {
   "cell_type": "markdown",
   "id": "8bc91fb1-0080-473f-a9e6-ba56384144e8",
   "metadata": {},
   "source": [
    "### Run the circuit on the emulator\n",
    "\n",
    "You can execute a `Circuit` object on our cloud emulator by running `backend.run_circuit(qc)`. Alternatively, you can create and run a `QuantumProgram` object by `program.run(backend)`."
   ]
  },
  {
   "cell_type": "code",
   "execution_count": 4,
   "id": "5d0d25bf-1b8e-435e-81bf-f3e941e803f3",
   "metadata": {},
   "outputs": [
    {
     "name": "stdout",
     "output_type": "stream",
     "text": [
      "Execution time: 0.0012 s                \n",
      "CPU times: user 8.93 ms, sys: 5.07 ms, total: 14 ms\n",
      "Wall time: 307 ms\n"
     ]
    }
   ],
   "source": [
    "%%time\n",
    "\n",
    "from qoqo.measurements import ClassicalRegister\n",
    "from qoqo import QuantumProgram\n",
    "from time import sleep\n",
    "\n",
    "# Alternativ 1: Run the circuit (unused in this example)\n",
    "# (result_bit_registers, result_float_registers, result_complex_registers) = backend.run_circuit(qc)\n",
    "\n",
    "# Alternativ 2: Run the program (followed up in this example)\n",
    "measurement = ClassicalRegister(circuits=[qc], constant_circuit=None)\n",
    "program = QuantumProgram(\n",
    "    measurement=measurement, input_parameter_names=[]\n",
    ")  # free parameters not yet allowed on QRydDemo's emulator\n",
    "job = backend.post_job(program)\n",
    "\n",
    "# Show status of the job\n",
    "while True:\n",
    "    job_status = backend.get_job_status(job)[\"status\"]\n",
    "    print(f\"Job status: {job_status}                   \", end=\"\\r\")\n",
    "    if job_status in [\"completed\", \"cancelled\", \"error\"]:\n",
    "        break\n",
    "    sleep(0.2)\n",
    "\n",
    "# Get result and show execution time of the circuit on the emulator\n",
    "result = backend.get_job_result(job)\n",
    "print(f\"Execution time: {result['time_taken']:.4f} s\")"
   ]
  },
  {
   "cell_type": "markdown",
   "id": "43b6d3ef",
   "metadata": {},
   "source": [
    "In the following, we plot the measured probabilities as a histogram. The probabilities follow the distribution $|\\sin(x)/x|^2$ as we calculated the Fourier transform of a rectangular function."
   ]
  },
  {
   "cell_type": "code",
   "execution_count": 5,
   "id": "a7d9cc8f",
   "metadata": {},
   "outputs": [
    {
     "data": {
      "image/png": "[encoded data removed]",
      "text/plain": [
       "<Figure size 640x480 with 1 Axes>"
      ]
     },
     "metadata": {},
     "output_type": "display_data"
    }
   ],
   "source": [
    "# Plot the results\n",
    "import matplotlib.pyplot as plt\n",
    "import collections\n",
    "\n",
    "counts = result[\"data\"][\"counts\"]\n",
    "new_counts = {}\n",
    "total_counts = np.sum([c for c in counts.values()])\n",
    "for key, val in counts.items():\n",
    "    new_key = bin(int(key[2:], base=16))[2:]\n",
    "    new_key = \"{}{}\".format(\"0\" * (4 - len(new_key)), new_key)\n",
    "    new_counts[new_key] = val / total_counts\n",
    "new_counts = collections.OrderedDict(sorted(new_counts.items()))\n",
    "fig, ax = plt.subplots()\n",
    "ax.set_xticks(range(len(new_counts)))\n",
    "ax.set_xticklabels(new_counts.keys(), rotation=45)\n",
    "plt.bar(new_counts.keys(), new_counts.values())\n",
    "plt.show()"
   ]
  },
  {
   "cell_type": "markdown",
   "id": "9ae5526a-df18-43cd-8d1f-165e51a67bd4",
   "metadata": {},
   "source": [
    "Details on the job result object can be accessed by key words, for example:"
   ]
  },
  {
   "cell_type": "code",
   "execution_count": 6,
   "id": "6b2d0d81-1e9f-421b-9bf8-ed057378b2b1",
   "metadata": {},
   "outputs": [
    {
     "name": "stdout",
     "output_type": "stream",
     "text": [
      "Number of executed single-qubit gates: 27\n",
      "Number of executed two-qubit gates: 15\n",
      "Number of gates after gate fusion: 1\n"
     ]
    }
   ],
   "source": [
    "print(f\"Number of executed single-qubit gates: {result['executed_single_qubit_gates']}\")\n",
    "print(f\"Number of executed two-qubit gates: {result['executed_two_qubit_gates']}\")\n",
    "print(f\"Number of gates after gate fusion: {result['fusion_generated_gates']}\")"
   ]
  },
  {
   "cell_type": "markdown",
   "id": "3559a421",
   "metadata": {},
   "source": [
    "## Run general measurements with qoqo\n",
    "\n",
    "The quantum computing toolkit qoqo supports executing more general measurements than a simple ClassicalRegister measurement that returns the number of measurement outcomes for each qubit (see also the qoqo_qryd [user documentation](https://hqsquantumsimulations.github.io/qoqo_qryd/)).\n",
    "\n",
    "As an example we will demonstrate how to measure an expectation value after applying the QFT. The expectation value will be the product of the Z-PauliOperator on qubits 1 and 2."
   ]
  },
  {
   "cell_type": "code",
   "execution_count": 7,
   "id": "02cc020d",
   "metadata": {},
   "outputs": [
    {
     "name": "stdout",
     "output_type": "stream",
     "text": [
      "{'<Z1Z2>': 5.72}\n",
      "{'<Z1Z2>': 6.3}\n"
     ]
    }
   ],
   "source": [
    "from qoqo import Circuit\n",
    "from qoqo import operations as ops\n",
    "from qoqo.measurements import PauliZProduct, PauliZProductInput\n",
    "from qoqo import QuantumProgram\n",
    "\n",
    "\n",
    "# The QFT circuit is setup like before\n",
    "def qft_rotations(circuit, n):\n",
    "    \"\"\"Performs qft on the first n qubits in circuit (without swaps)\"\"\"\n",
    "    if n == 0:\n",
    "        return circuit\n",
    "    n -= 1\n",
    "    circuit += ops.Hadamard(qubit=n)\n",
    "    for qubit in range(n):\n",
    "        circuit += ops.ControlledPhaseShift(\n",
    "            control=qubit, target=n, theta=np.pi / 2 ** (n - qubit)\n",
    "        )\n",
    "\n",
    "    # At the end of our function, we call the same function again on\n",
    "    # the next qubits (we reduced n by one earlier in the function)\n",
    "    qft_rotations(circuit, n)\n",
    "\n",
    "\n",
    "def swap_registers(circuit, n):\n",
    "    \"\"\"Performs the swap part of the QFT algorithm\"\"\"\n",
    "    for qubit in range(n // 2):\n",
    "        circuit += ops.SWAP(control=qubit, target=n - qubit - 1)\n",
    "    return circuit\n",
    "\n",
    "\n",
    "def qft(circuit, n):\n",
    "    \"\"\"QFT on the first n qubits in circuit\"\"\"\n",
    "    qft_rotations(circuit, n)\n",
    "    swap_registers(circuit, n)\n",
    "    return circuit\n",
    "\n",
    "\n",
    "# Create a quantum circuit object\n",
    "num_qubits = 4\n",
    "qc = Circuit()\n",
    "\n",
    "# Add a register to store the measurement to the Circuit\n",
    "qc += ops.DefinitionBit(name=\"ro\", length=num_qubits, is_output=True)\n",
    "\n",
    "# Encode the state |0>+|1>+|2>+|3>=|0000>+|0001>+|0010>+|0011> (i.e. a state that corresponds\n",
    "# to a rectangular function in the context of the qft), apply the qft, and measure all qubits\n",
    "qc += ops.Hadamard(0)\n",
    "qc += ops.Hadamard(1)\n",
    "qft(qc, num_qubits)\n",
    "\n",
    "# Add a measurement operation to the Circuit\n",
    "for i in range(num_qubits):\n",
    "    qc += ops.MeasureQubit(i, \"ro\", i)\n",
    "qc += ops.PragmaSetNumberOfMeasurements(1000, readout=\"ro\")\n",
    "\n",
    "# We now use qoqo's PauliZProduct measurement to measure the expectation value\n",
    "\n",
    "# Preparing the measurement input for four qubits\n",
    "measurement_input = PauliZProductInput(4, False)\n",
    "\n",
    "# Read out product of Z on site 1 and site 2 for register ro (no basis change)\n",
    "index = measurement_input.add_pauliz_product(\"ro\", [1, 2])\n",
    "\n",
    "# Add a result (the expectation value of the product) that is a combination of the PauliProduct expectation values\n",
    "measurement_input.add_linear_exp_val(\"<Z1Z2>\", {index: 10.0})\n",
    "\n",
    "measurement = PauliZProduct(\n",
    "    constant_circuit=None,\n",
    "    circuits=[qc],\n",
    "    input=measurement_input,\n",
    ")\n",
    "\n",
    "# Creating the backend\n",
    "device = TweezerDevice().from_api()\n",
    "device.switch_layout(\"triangle\")\n",
    "backend = APIBackend(\n",
    "    device=device, access_token=token, timeout=30\n",
    ")  # timeout in seconds, 30s per default\n",
    "\n",
    "# In the following, we show two alternative options that can be run and that are equivalent for our use case:\n",
    "\n",
    "# a) Running the measurement\n",
    "expecation_values = backend.run_measurement(measurement)\n",
    "print(expecation_values)\n",
    "\n",
    "# b) Run a quantum program (the QuantumProgram has no free parameter, in the current version of the WebAPI free parameters are not supported)\n",
    "program = QuantumProgram(measurement=measurement, input_parameter_names=[])\n",
    "expecation_values = program.run(backend, [])\n",
    "print(expecation_values)"
   ]
  },
  {
   "cell_type": "markdown",
   "id": "7dd12147",
   "metadata": {},
   "source": [
    "## Qubit shifts example\n",
    "\n",
    "The following script demonstrates a shift operation using PragmaShiftQubitsTweezers.\n",
    "\n",
    "The first circuit fails upon execution because qubits 1 and 2 are initially located in tweezer positions 1 and 4, respectively.\n",
    "The second circuit includes an additional shift operation, which repositions qubits 2 and 3 in the correct configuration. This adjustment enables the PhaseShiftedControlledZ operation to execute successfully."
   ]
  },
  {
   "cell_type": "code",
   "execution_count": 8,
   "id": "6cb9bb07",
   "metadata": {},
   "outputs": [
    {
     "name": "stdout",
     "output_type": "stream",
     "text": [
      "State vector before applying shift and two-qubit gate\n",
      "[[(4.329780281177467e-17+0j), 0j, -0.7071067811865476j, 0j, -4.329780281177466e-17j, 0j, (-0.7071067811865475+0j), 0j, 0j, 0j, 0j, 0j, 0j, 0j, 0j, 0j]]\n",
      "State vector after applying shift and two-qubit gate\n",
      "[[(4.329780281177467e-17+0j), 0j, -0.7071067811865476j, 0j, -4.329780281177466e-17j, 0j, (0.7071067811865475-8.659560562354932e-17j), 0j, 0j, 0j, 0j, 0j, 0j, 0j, 0j, 0j]]\n"
     ]
    }
   ],
   "source": [
    "import numpy as np\n",
    "import qoqo.operations as ops  # type:ignore\n",
    "from qoqo import Circuit\n",
    "from qoqo_qryd import SimulatorBackend\n",
    "from qoqo_qryd import pragma_operations as qrydops\n",
    "from qoqo_qryd.tweezer_devices import TweezerMutableDevice  # type:ignore\n",
    "from utils import apply_column_square, apply_row\n",
    "\n",
    "# ------------------------- The set-up of the device -------------------------- #\n",
    "\n",
    "# Initializing Device with a square lattice\n",
    "#\n",
    "#   Tweezer positions:\n",
    "#   0 ----- 1 ----- 2 ----- 3\n",
    "#   4 ----- 5 ----- 6 ----- 7\n",
    "#\n",
    "#   Qubit positions:\n",
    "#   0 --- 1\n",
    "#   2 --- 3\n",
    "#\n",
    "rows = 2\n",
    "columns = 4\n",
    "\n",
    "device = TweezerMutableDevice()\n",
    "device.add_layout(\"square_lattice\")\n",
    "\n",
    "for i in range(rows * columns):\n",
    "    for gate in [\"RotateX\", \"PhaseShiftState1\"]:\n",
    "        device.set_tweezer_single_qubit_gate_time(gate, i, 1.0, \"square_lattice\")\n",
    "\n",
    "for row in range(rows):\n",
    "    for column in range(columns):\n",
    "        row_indices = apply_row(row, column, columns, rows)\n",
    "        column_indices = apply_column_square(row, column, columns, rows)\n",
    "        if row_indices is not None:\n",
    "            device.set_tweezer_two_qubit_gate_time(\n",
    "                \"PhaseShiftedControlledZ\",\n",
    "                row_indices[0],\n",
    "                row_indices[1],\n",
    "                1.0,\n",
    "                \"square_lattice\",\n",
    "            )\n",
    "        if column_indices is not None:\n",
    "            device.set_tweezer_two_qubit_gate_time(\n",
    "                \"PhaseShiftedControlledZ\",\n",
    "                column_indices[0],\n",
    "                column_indices[1],\n",
    "                1.0,\n",
    "                \"square_lattice\",\n",
    "            )\n",
    "\n",
    "device.set_allowed_tweezer_shifts_from_rows(\n",
    "    [[0, 1, 2, 3], [4, 5, 6, 7]], \"square_lattice\"\n",
    ")\n",
    "\n",
    "device.switch_layout(\"square_lattice\", with_trivial_map=False)\n",
    "\n",
    "# Populate the device according to initialization explained above\n",
    "device.add_qubit_tweezer_mapping(0, 0)\n",
    "device.add_qubit_tweezer_mapping(1, 1)\n",
    "device.add_qubit_tweezer_mapping(2, 4)\n",
    "device.add_qubit_tweezer_mapping(3, 5)\n",
    "\n",
    "backend = SimulatorBackend(device)\n",
    "\n",
    "# ------------------------ The set-up of the circuit (incorrect) ------------------------ #\n",
    "\n",
    "circuit = Circuit()\n",
    "# Qubits 1 and 2 are not close enough for interaction in square lattice\n",
    "circuit += ops.PhaseShiftedControlledZ(control=1, target=2, phi=0.0)\n",
    "# This should fail\n",
    "# result = backend.run_circuit(circuit)\n",
    "\n",
    "\n",
    "# ------------------ The set-up of the circuit (correct) --------------- #\n",
    "\n",
    "circuit = Circuit()\n",
    "# Qubits 1 and 2 are close enough for interaction in square lattice after shift\n",
    "#   Qubit positions after shift:\n",
    "#   0 --- 1\n",
    "#         2 --- 3\n",
    "circuit += ops.DefinitionComplex(\"state_vector_before\", 16, True)\n",
    "circuit += ops.DefinitionComplex(\"state_vector_after\", 16, True)\n",
    "circuit += ops.RotateX(1, np.pi)\n",
    "circuit += ops.RotateX(2, np.pi / 2)\n",
    "circuit += ops.PragmaGetStateVector(\"state_vector_before\", None)\n",
    "circuit += qrydops.PragmaShiftQubitsTweezers([(5, 6), (4, 5)]).to_pragma_change_device()\n",
    "circuit += ops.PhaseShiftedControlledZ(control=1, target=2, phi=0.0)\n",
    "circuit += ops.PragmaGetStateVector(\"state_vector_after\", None)\n",
    "# This should pass\n",
    "result = backend.run_circuit(circuit)\n",
    "print(\"State vector before applying shift and two-qubit gate\")\n",
    "print(result[2][\"state_vector_before\"])\n",
    "print(\"State vector after applying shift and two-qubit gate\")\n",
    "print(result[2][\"state_vector_after\"])"
   ]
  }
 ],
 "metadata": {
  "kernelspec": {
   "display_name": "qryd",
   "language": "python",
   "name": "python3"
  },
  "language_info": {
   "codemirror_mode": {
    "name": "ipython",
    "version": 3
   },
   "file_extension": ".py",
   "mimetype": "text/x-python",
   "name": "python",
   "nbconvert_exporter": "python",
   "pygments_lexer": "ipython3",
   "version": "3.9.0"
  }
 },
 "nbformat": 4,
 "nbformat_minor": 5
}
