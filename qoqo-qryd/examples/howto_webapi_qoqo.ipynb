{
 "cells": [
  {
   "cell_type": "markdown",
   "id": "2b3e586a-6d2e-444b-92e8-35e0859decf2",
   "metadata": {},
   "source": [
    "# How to use QRydDemo's emulator with Qoqo?\n",
    "\n",
    "Accessing [QRydDemo](https://thequantumlaend.de/qryddemo/)'s emulator with [Qoqo](https://github.com/HQSquantumsimulations/qoqo) is supported by the software package [qoqo-qryd](https://github.com/HQSquantumsimulations/qoqo_qryd) developed by [HQS Quantum Simulations](https://quantumsimulations.de/). The software is designed to enable the excution of quantum algorithms implemented in Qoqo on the hardware of the QRydDemo consortium. Qoqo is a circuit based quantum computing toolkit. Like many other quantum computing toolkits, it can be used to construct quantum circuits sequences of quantum operations that are to be executed on a quantum computer or on an emulator.\n",
    "\n",
    "The python package `qoqo-qryd`, that enables accessing QRydDemo's emulator with Qoqo, can be installed via the Python package manager pip\n",
    "\n",
    "```bash\n",
    "> pip install qoqo-qryd\n",
    "```\n",
    "\n",
    "In the following, we demonstrate how users can execute arbitrary quantum algorithms on QRydDemo's emulator, using the example of a quantum Fourier transform. On our servers, a decomposer developed by HQS Quantum Simulations compiles quantum algorithms to the gate set and connectivities supported by the emulator and future Rydberg quantum computer.\n",
    "\n",
    "<font color='red'>*You can adapt and execute this notebook to run your own calculations on our servers (Menu Bar > Run > Run All Cells), without having to install qoqo-qryd. However, the notebook will be reset at 00:00 CET/CEST and all your changes will be lost. Thus, please make sure to download your notebook and save it locally.*</font>\n",
    "\n",
    "**Currently supported Rydberg gates:**\n",
    "* Phase shift of the qubit state |1>\n",
    "* Rotation around an arbitrary axis in the xy-plane\n",
    "* Phase-shifted CZ-gate (a Rydberg variant of the CZ-gate \\[[1](https://doi.org/10.1103/PhysRevLett.123.170503), [2](https://arxiv.org/abs/2202.13849)\\])\n",
    "\n",
    "**Currently supported connectivities:**\n",
    "<table align=left><tr>\n",
    "<td> <img src=\"square.png\" alt=\"Square lattice with nearest-neighbor connectivity\" style=\"width: 300px;\"/> </td>\n",
    "<td> <img src=\"triangle.png\" alt=\"Triangle lattice with nearest-neighbor connectivity\" style=\"width: 300px;\"/> </td>\n",
    "</tr></table>"
   ]
  },
  {
   "cell_type": "markdown",
   "id": "2b61f017-1118-48de-8077-71ab7e95acc5",
   "metadata": {},
   "source": [
    "## 1. Basic usage"
   ]
  },
  {
   "cell_type": "markdown",
   "id": "7696a070-6ccf-4a83-8133-89d34f6a0f9f",
   "metadata": {},
   "source": [
    "### Initialize the QRydDemo access\n",
    "\n",
    "To initialize the access, a QRydDemo API token is required. The token can be obtained via the registration form at [thequantumlaend.de](https://thequantumlaend.de/frontend/signup_form.php).\n",
    "For convenience, your token has already been loaded into this notebook."
   ]
  },
  {
   "cell_type": "code",
   "execution_count": 7,
   "id": "7408ecb2-9375-4b7e-a78f-a625fdfce020",
   "metadata": {},
   "outputs": [],
   "source": [
    "import os\n",
    "\n",
    "token = os.getenv(\"QRYD_API_TOKEN\")"
   ]
  },
  {
   "cell_type": "markdown",
   "id": "fbb265e8-7a0a-4d02-a150-d2fe4e11bdcc",
   "metadata": {},
   "source": [
    "### Choose a backend\n",
    "\n",
    "Different devices are available for the API backend that are capable of running ideal simulations of quantum circuits. An inclusion of noise models is planned for the future. You can either choose a device emulating 30 qubits arranged in a 5x6 square lattice with nearest-neighbor connectivity `QrydEmuSquareDevice` or in a triangle lattice `QrydEmuTriangularDevice`. The transpilation of arbitrary quantum algorithms to these connectivities and the gate set of the Rydberg platform happens on our servers, using a decomposer developed by [HQS Quantum Simulations](https://quantumsimulations.de/)."
   ]
  },
  {
   "cell_type": "code",
   "execution_count": 8,
   "id": "9beb5a9c-6c3f-485d-97a6-489397d7dc95",
   "metadata": {},
   "outputs": [],
   "source": [
    "from qoqo_qryd import APIBackend\n",
    "from qoqo_qryd.api_devices import QrydEmuTriangularDevice\n",
    "import numpy as np\n",
    "\n",
    "device = QrydEmuTriangularDevice(seed=1, pcz_theta=np.pi)\n",
    "backend = APIBackend(device=device, access_token=token, timeout=30) # timeout in seconds, 30s per default"
   ]
  },
  {
   "cell_type": "markdown",
   "id": "4879f7e1-b3b3-4736-bd49-c5c29615f0df",
   "metadata": {},
   "source": [
    "### Create a quantum algorithm\n",
    "\n",
    "You can use the gate operations provided by Qoqo to create a quantum algorithm, e.g., in the following, we create a quantum circuit that calculates the Fourier transform of a rectangular function."
   ]
  },
  {
   "cell_type": "code",
   "execution_count": 9,
   "id": "c3a7d467-d2e5-4b87-b95e-cbcc57bad2f8",
   "metadata": {},
   "outputs": [
    {
     "name": "stdout",
     "output_type": "stream",
     "text": [
      "DefinitionBit(DefinitionBit { name: \"ro\", length: 4, is_output: true })\n",
      "Hadamard(Hadamard { qubit: 0 })\n",
      "Hadamard(Hadamard { qubit: 1 })\n",
      "Hadamard(Hadamard { qubit: 3 })\n",
      "ControlledPhaseShift(ControlledPhaseShift { control: 0, target: 3, theta: Float(0.39269908169872414) })\n",
      "ControlledPhaseShift(ControlledPhaseShift { control: 1, target: 3, theta: Float(0.7853981633974483) })\n",
      "ControlledPhaseShift(ControlledPhaseShift { control: 2, target: 3, theta: Float(1.5707963267948966) })\n",
      "Hadamard(Hadamard { qubit: 2 })\n",
      "ControlledPhaseShift(ControlledPhaseShift { control: 0, target: 2, theta: Float(0.7853981633974483) })\n",
      "ControlledPhaseShift(ControlledPhaseShift { control: 1, target: 2, theta: Float(1.5707963267948966) })\n",
      "Hadamard(Hadamard { qubit: 1 })\n",
      "ControlledPhaseShift(ControlledPhaseShift { control: 0, target: 1, theta: Float(1.5707963267948966) })\n",
      "Hadamard(Hadamard { qubit: 0 })\n",
      "SWAP(SWAP { control: 0, target: 3 })\n",
      "SWAP(SWAP { control: 1, target: 2 })\n",
      "PragmaRepeatedMeasurement(PragmaRepeatedMeasurement { readout: \"ro\", number_measurements: 262144, qubit_mapping: None })\n",
      "\n"
     ]
    }
   ],
   "source": [
    "from qoqo import Circuit\n",
    "from qoqo import operations as ops\n",
    "import numpy as np\n",
    "\n",
    "def qft_rotations(circuit, n):\n",
    "    \"\"\"Performs qft on the first n qubits in circuit (without swaps)\"\"\"\n",
    "    if n == 0:\n",
    "        return circuit\n",
    "    n -= 1\n",
    "    circuit += ops.Hadamard(qubit=n)\n",
    "    for qubit in range(n):\n",
    "        circuit += ops.ControlledPhaseShift(control=qubit, target=n, theta=np.pi/2**(n-qubit)) \n",
    "    # At the end of our function, we call the same function again on\n",
    "    # the next qubits (we reduced n by one earlier in the function)\n",
    "    qft_rotations(circuit, n)\n",
    "\n",
    "def swap_registers(circuit, n):\n",
    "    \"\"\"Performs the swap part of the QFT algorithm\"\"\"\n",
    "    for qubit in range(n//2):\n",
    "        circuit += ops.SWAP(control=qubit, target=n-qubit-1)\n",
    "    return circuit\n",
    "\n",
    "def qft(circuit, n):\n",
    "    \"\"\"QFT on the first n qubits in circuit\"\"\"\n",
    "    qft_rotations(circuit, n)\n",
    "    swap_registers(circuit, n)\n",
    "    return circuit\n",
    "\n",
    "# Create a quantum circuit object\n",
    "num_qubits = 4\n",
    "qc = Circuit()\n",
    "\n",
    "# Add a register to store the measurement to the Circuit\n",
    "qc += ops.DefinitionBit(name='ro', length=num_qubits, is_output=True)\n",
    "\n",
    "# Encode the state |0>+|1>+|2>+|3>=|0000>+|0001>+|0010>+|0011> (i.e. a state that corresponds\n",
    "# to a rectangular function in the context of the qft), apply the qft, and measure all qubits\n",
    "qc += ops.Hadamard(0)\n",
    "qc += ops.Hadamard(1)\n",
    "qft(qc,num_qubits)\n",
    "\n",
    "# Add a measurement operation to the Circuit, here a PragmaRepeatedMeasurement operation valid on QRydDemos's emulator\n",
    "qc += ops.PragmaRepeatedMeasurement(readout='ro', number_measurements=2**18)\n",
    "\n",
    "# Print the resulting quantum circuit\n",
    "print(qc)"
   ]
  },
  {
   "cell_type": "markdown",
   "id": "8bc91fb1-0080-473f-a9e6-ba56384144e8",
   "metadata": {},
   "source": [
    "### Run the circuit on the emulator\n",
    "\n",
    "You can execute a `Circuit` object on our cloud emulator by running `backend.run_circuit(qc)`. Alternatively, you can create and run a `QuantumProgram` object by `program.run(backend)`."
   ]
  },
  {
   "cell_type": "code",
   "execution_count": 10,
   "id": "5d0d25bf-1b8e-435e-81bf-f3e941e803f3",
   "metadata": {},
   "outputs": [
    {
     "name": "stdout",
     "output_type": "stream",
     "text": [
      "Execution time: 0.0183 s                   \n",
      "CPU times: user 108 ms, sys: 13.8 ms, total: 122 ms\n",
      "Wall time: 2.22 s\n"
     ]
    }
   ],
   "source": [
    "%%time\n",
    "\n",
    "from qoqo.measurements import ClassicalRegister\n",
    "from qoqo import QuantumProgram\n",
    "from time import sleep\n",
    "\n",
    "# Alternativ 1: Run the circuit (unused in this example)\n",
    "# (result_bit_registers, result_float_registers, result_complex_registers) = backend.run_circuit(qc)\n",
    "\n",
    "# Alternativ 2: Run the program (followed up in this example)\n",
    "measurement = ClassicalRegister(circuits=[qc], constant_circuit=None)\n",
    "program = QuantumProgram(measurement=measurement, input_parameter_names=[]) # free parameters not yet allowed on QRydDemo's emulator\n",
    "job = backend.post_job(program)\n",
    "\n",
    "# Show status of the job\n",
    "while True:\n",
    "    job_status = backend.get_job_status(job)[\"status\"]\n",
    "    print(f\"Job status: {job_status}                   \", end=\"\\r\")\n",
    "    if job_status in [\"completed\", \"cancelled\", \"error\"]:\n",
    "        break\n",
    "    sleep(0.2)\n",
    "\n",
    "# Get result and show execution time of the circuit on the emulator\n",
    "result = backend.get_job_result(job)\n",
    "print(f\"Execution time: {result['time_taken']:.4f} s\")"
   ]
  },
  {
   "cell_type": "markdown",
   "id": "43b6d3ef",
   "metadata": {},
   "source": [
    "In the following, we plot the measured probabilities as a histogram. The probabilities follow the distribution $|\\sin(x)/x|^2$ as we calculated the Fourier transform of a rectangular function."
   ]
  },
  {
   "cell_type": "code",
   "execution_count": 21,
   "id": "a7d9cc8f",
   "metadata": {},
   "outputs": [
    {
     "name": "stderr",
     "output_type": "stream",
     "text": [
      "/tmp/ipykernel_6095/3300056104.py:15: UserWarning: FixedFormatter should only be used together with FixedLocator\n",
      "  ax.set_xticklabels(new_counts.keys(), rotation = 45)\n"
     ]
    },
    {
     "data": {
      "text/plain": [
       "<BarContainer object of 13 artists>"
      ]
     },
     "execution_count": 21,
     "metadata": {},
     "output_type": "execute_result"
    },
    {
     "data": {
      "image/png": "[encoded data removed]",
      "text/plain": [
       "<Figure size 432x288 with 1 Axes>"
      ]
     },
     "metadata": {
      "needs_background": "light"
     },
     "output_type": "display_data"
    }
   ],
   "source": [
    "# Plot the results\n",
    "import collections\n",
    "import matplotlib\n",
    "import matplotlib.pyplot as plt\n",
    "\n",
    "counts = result['data']['counts']\n",
    "new_counts = {}\n",
    "total_counts = np.sum([c for c in counts.values()])\n",
    "for key,val in counts.items():\n",
    "    new_key = bin(int(key[2:], base=16))[2:]\n",
    "    new_key = \"{}{}\".format(\"0\"*(4-len(new_key)), new_key)\n",
    "    new_counts[new_key] = val / total_counts\n",
    "new_counts = collections.OrderedDict(sorted(new_counts.items()))\n",
    "fig, ax = plt.subplots()\n",
    "ax.set_xticklabels(new_counts.keys(), rotation = 45)\n",
    "plt.bar(new_counts.keys(), new_counts.values())"
   ]
  },
  {
   "cell_type": "markdown",
   "id": "9ae5526a-df18-43cd-8d1f-165e51a67bd4",
   "metadata": {},
   "source": [
    "Details on the job result object can be accessed by key words, for example:"
   ]
  },
  {
   "cell_type": "code",
   "execution_count": null,
   "id": "6b2d0d81-1e9f-421b-9bf8-ed057378b2b1",
   "metadata": {},
   "outputs": [],
   "source": [
    "print(f\"Number of executed single-qubit gates: {result['executed_single_qubit_gates']}\")\n",
    "print(f\"Number of executed two-qubit gates: {result['executed_two_qubit_gates']}\")\n",
    "print(f\"Number of gates after gate fusion: {result['fusion_generated_gates']}\")"
   ]
  },
  {
   "cell_type": "code",
   "execution_count": null,
   "id": "02cc020d",
   "metadata": {},
   "outputs": [],
   "source": []
  }
 ],
 "metadata": {
  "interpreter": {
   "hash": "d9d6a04e45447da395177785005c0c25292e4e0d016889c78e44945209a31cab"
  },
  "kernelspec": {
   "display_name": "Python 3 (ipykernel)",
   "language": "python",
   "name": "python3"
  },
  "language_info": {
   "codemirror_mode": {
    "name": "ipython",
    "version": 3
   },
   "file_extension": ".py",
   "mimetype": "text/x-python",
   "name": "python",
   "nbconvert_exporter": "python",
   "pygments_lexer": "ipython3",
   "version": "3.8.12"
  }
 },
 "nbformat": 4,
 "nbformat_minor": 5
}
